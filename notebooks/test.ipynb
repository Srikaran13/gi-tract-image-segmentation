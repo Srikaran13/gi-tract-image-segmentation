{
 "cells": [
  {
   "cell_type": "code",
   "execution_count": 1,
   "id": "86f53524-b4cb-4d59-b6c6-a951acf8a3b3",
   "metadata": {},
   "outputs": [],
   "source": [
    "import os"
   ]
  },
  {
   "cell_type": "code",
   "execution_count": 2,
   "id": "db11b85e-ade2-4df4-bbe0-371fa3fb0da5",
   "metadata": {},
   "outputs": [
    {
     "data": {
      "text/plain": [
       "'/Users/srikaranreddy/Desktop/Spring Semester/Computer Vision 6.8300/cv-project/gi-tract-image-segmentation/notebooks'"
      ]
     },
     "execution_count": 2,
     "metadata": {},
     "output_type": "execute_result"
    }
   ],
   "source": [
    "os.getcwd()"
   ]
  },
  {
   "cell_type": "code",
   "execution_count": 3,
   "id": "26b1cf2d-39b4-4590-81d1-744da758852b",
   "metadata": {},
   "outputs": [],
   "source": [
    "os.chdir('/Users/srikaranreddy/Desktop/Spring Semester/Computer Vision 6.8300/cv-project/gi-tract-image-segmentation')"
   ]
  },
  {
   "cell_type": "code",
   "execution_count": 4,
   "id": "8be86488-3e36-45b8-b04b-a1595e526b6c",
   "metadata": {},
   "outputs": [],
   "source": [
    "from src.data import SegmentationDataset"
   ]
  },
  {
   "cell_type": "code",
   "execution_count": null,
   "id": "62e4dc70-bc4a-4983-9875-061e4dec9fce",
   "metadata": {},
   "outputs": [],
   "source": [
    "sd = SegmentationDataset(dataset_dir='datasets/train', \n",
    "                         csv_file_path='datasets/train.csv')"
   ]
  },
  {
   "cell_type": "code",
   "execution_count": null,
   "id": "e42a4f94-b545-400d-ad4a-695be0270467",
   "metadata": {},
   "outputs": [],
   "source": [
    "sd.processed_df.shape"
   ]
  },
  {
   "cell_type": "code",
   "execution_count": null,
   "id": "fa26761c-ec08-46bf-95e3-2b5bbca9e7f9",
   "metadata": {},
   "outputs": [],
   "source": [
    "df = sd.processed_df"
   ]
  },
  {
   "cell_type": "code",
   "execution_count": null,
   "id": "ca13e6ed-e6f2-4b72-8784-a46d90ec1b06",
   "metadata": {},
   "outputs": [],
   "source": [
    "from sklearn.model_selection import train_test_split\n",
    "import random \n",
    "\n",
    "random.seed(42)\n",
    "\n",
    "train_df, test_df = train_test_split(df, test_size=0.2)\n",
    "train_df = train_df.reset_index(drop=True)\n",
    "test_df = test_df.reset_index(drop=True)"
   ]
  },
  {
   "cell_type": "code",
   "execution_count": null,
   "id": "41d7e08b-af01-4324-a94e-532cda730c34",
   "metadata": {},
   "outputs": [],
   "source": [
    "temp_df = train_df.sample(20)\n",
    "temp_df = temp_df.reset_index(drop=True)"
   ]
  },
  {
   "cell_type": "code",
   "execution_count": null,
   "id": "fd1bbb33-c6bc-4ff9-9316-9e7414287efa",
   "metadata": {},
   "outputs": [],
   "source": [
    "CLASSES = ['small_bowel', 'large_bowel', 'stomach']\n",
    "categories = sd.create_coco_categories(CLASSES)\n",
    "categories"
   ]
  },
  {
   "cell_type": "code",
   "execution_count": null,
   "id": "2899e1df-46c0-4cd1-99f3-9c33932bb340",
   "metadata": {},
   "outputs": [],
   "source": [
    "temp_images = sd.create_coco_images(temp_df)\n",
    "temp_images[0]"
   ]
  },
  {
   "cell_type": "code",
   "execution_count": null,
   "id": "029d0c79-3217-48d4-bcaa-c363e9b09a0b",
   "metadata": {},
   "outputs": [],
   "source": [
    "temp_annotations = sd.create_annotations(temp_df, temp_images)\n",
    "temp_annotations[0]"
   ]
  },
  {
   "cell_type": "code",
   "execution_count": null,
   "id": "fa03944e-68c9-4f9d-bb87-369b038849fc",
   "metadata": {},
   "outputs": [],
   "source": [
    "import pycocotools\n",
    "from pycocotools import mask\n",
    "import pycocotools.mask as mask_util\n",
    "import numpy as np\n",
    "import json\n",
    "from pycocotools.coco import COCO"
   ]
  },
  {
   "cell_type": "code",
   "execution_count": null,
   "id": "a66414c5-4d13-4996-8235-b9297369594a",
   "metadata": {},
   "outputs": [],
   "source": [
    "def np_encoder(object):\n",
    "    if isinstance(object, np.generic):\n",
    "        return object.item()\n",
    "\n",
    "temp_json = {\n",
    "    'categories': categories,\n",
    "    'images': temp_images,\n",
    "    'annotations': temp_annotations\n",
    "}\n",
    "\n",
    "with open('temp_json.json', 'w', encoding='utf-8') as f:\n",
    "    json.dump(temp_json, f, ensure_ascii=True, indent=4, default=np_encoder)"
   ]
  },
  {
   "cell_type": "code",
   "execution_count": null,
   "id": "2bcfeb6a-4c29-4b64-a7ca-c73f93f7667f",
   "metadata": {},
   "outputs": [],
   "source": [
    "from pathlib import Path\n",
    "annFile = Path(f'temp_json.json')\n",
    "coco = COCO(annFile)\n",
    "imgIds = coco.getImgIds()"
   ]
  },
  {
   "cell_type": "code",
   "execution_count": null,
   "id": "bdb9fa0b-eaad-480a-8ad1-00b670deb3d6",
   "metadata": {
    "scrolled": true
   },
   "outputs": [],
   "source": [
    "imgs = coco.loadImgs(imgIds)\n",
    "imgs"
   ]
  },
  {
   "cell_type": "code",
   "execution_count": null,
   "id": "4679e094-be8d-430d-94f0-ab8ee2c9b9f2",
   "metadata": {},
   "outputs": [],
   "source": [
    "dataset_dir = '/Users/srikaranreddy/Desktop/Spring Semester/Computer Vision 6.8300/cv-project/gi-tract-image-segmentation/datasets/train'"
   ]
  },
  {
   "cell_type": "code",
   "execution_count": null,
   "id": "b44d8b36-7eea-49b6-888b-6a8ba805d673",
   "metadata": {},
   "outputs": [],
   "source": [
    "from matplotlib import pyplot as plt\n",
    "from PIL import Image\n",
    "imgs = coco.loadImgs(imgIds[0:2])\n",
    "_, axs = plt.subplots(len(imgs), 2, figsize=(40, 15 * len(imgs)))\n",
    "for img, ax in zip(imgs, axs):\n",
    "    I = Image.fromarray(\n",
    "        np.array(Image.open(os.path.join(dataset_dir, img['file_name']))).astype(\"uint16\"))\n",
    "    annIds = coco.getAnnIds(imgIds=[img['id']])\n",
    "    anns = coco.loadAnns(annIds)\n",
    "    ax[0].imshow(I)\n",
    "    ax[1].imshow(I)\n",
    "    plt.sca(ax[1])\n",
    "    coco.showAnns(anns, draw_bbox=True)"
   ]
  },
  {
   "cell_type": "code",
   "execution_count": null,
   "id": "6fbedf40-ecb6-4f2b-b389-fc7e0110e108",
   "metadata": {},
   "outputs": [],
   "source": [
    "from src.data import DataGenerator"
   ]
  },
  {
   "cell_type": "code",
   "execution_count": null,
   "id": "5bc2e2cc-20ac-4076-82a8-f6b3dc945bc4",
   "metadata": {},
   "outputs": [],
   "source": [
    "temp_generator_class = DataGenerator(dataset_dir='datasets/train',\n",
    "                                     batch_size=20,\n",
    "                                     subset=\"train\",\n",
    "                                     classes=CLASSES,\n",
    "                                     input_image_size=(128,128),\n",
    "                                     annFile='temp_json.json',\n",
    "                                     shuffle=True)"
   ]
  },
  {
   "cell_type": "code",
   "execution_count": null,
   "id": "85aed243-54f3-42e3-88fe-41fa7af6ba83",
   "metadata": {},
   "outputs": [],
   "source": [
    "X, y = temp_generator_class.__getitem__(0)"
   ]
  },
  {
   "cell_type": "code",
   "execution_count": null,
   "id": "32c16e91-5633-49e1-b936-2d50cae9d99d",
   "metadata": {},
   "outputs": [],
   "source": [
    "X.shape, y.shape"
   ]
  },
  {
   "cell_type": "code",
   "execution_count": null,
   "id": "56a187d2-8ceb-48c2-9c57-eee0f34e5f59",
   "metadata": {},
   "outputs": [],
   "source": []
  },
  {
   "cell_type": "code",
   "execution_count": null,
   "id": "e806a6cd-3c5c-4231-a0d9-3706b346b061",
   "metadata": {},
   "outputs": [],
   "source": []
  },
  {
   "cell_type": "code",
   "execution_count": null,
   "id": "039bf20a-5518-4fd0-985b-9efaac216f33",
   "metadata": {},
   "outputs": [],
   "source": []
  },
  {
   "cell_type": "code",
   "execution_count": null,
   "id": "4e534c58-fcb7-4681-89b0-23219f933534",
   "metadata": {},
   "outputs": [],
   "source": []
  },
  {
   "cell_type": "code",
   "execution_count": null,
   "id": "b6da75b1-cb7e-4cdf-a78e-7943645a729c",
   "metadata": {},
   "outputs": [],
   "source": []
  },
  {
   "cell_type": "code",
   "execution_count": null,
   "id": "85e8b135-278c-4fce-9fe3-0da4cab813ce",
   "metadata": {},
   "outputs": [],
   "source": []
  },
  {
   "cell_type": "code",
   "execution_count": 25,
   "id": "bf42ce1a-e334-493f-a54c-dff34c7aca74",
   "metadata": {},
   "outputs": [
    {
     "data": {
      "text/plain": [
       "int"
      ]
     },
     "execution_count": 25,
     "metadata": {},
     "output_type": "execute_result"
    }
   ],
   "source": [
    "type(temp_images[0]['width'])"
   ]
  },
  {
   "cell_type": "code",
   "execution_count": 61,
   "id": "4fd8fea7-cc07-41e8-9173-bb428813edc6",
   "metadata": {
    "scrolled": true
   },
   "outputs": [
    {
     "name": "stdout",
     "output_type": "stream",
     "text": [
      "loading annotations into memory...\n",
      "Done (t=0.00s)\n",
      "creating index...\n",
      "index created!\n"
     ]
    }
   ],
   "source": [
    "batch_size = 20\n",
    "image_list= imgs\n",
    "indexes = np.arange(len(image_list))\n",
    "classes= CLASSES\n",
    "input_image_size= (128, 128)\n",
    "dataset_size = len(image_list)\n",
    "coco = COCO(Path(f'temp_json.json'))\n",
    "catIds = coco.getCatIds(catNms=classes)  \n",
    "cats = coco.loadCats(catIds)\n",
    "imgIds = coco.getImgIds()\n",
    "shuffle = True"
   ]
  },
  {
   "cell_type": "code",
   "execution_count": 62,
   "id": "41bc5f7d-df13-4ebf-b980-36478a29d1f4",
   "metadata": {},
   "outputs": [
    {
     "name": "stdout",
     "output_type": "stream",
     "text": [
      "[0, 1, 2]\n",
      "[{'id': 0, 'name': 'small_bowel'}, {'id': 1, 'name': 'large_bowel'}, {'id': 2, 'name': 'stomach'}]\n"
     ]
    }
   ],
   "source": [
    "print(catIds)\n",
    "print(cats)"
   ]
  },
  {
   "cell_type": "code",
   "execution_count": 63,
   "id": "69ef6532-3bd5-480d-ba56-52e3b47d1a38",
   "metadata": {},
   "outputs": [
    {
     "data": {
      "text/plain": [
       "[1, 2, 3, 4, 5, 6, 7, 8, 9, 10, 11, 12, 13, 14, 15, 16, 17, 18, 19, 20]"
      ]
     },
     "execution_count": 63,
     "metadata": {},
     "output_type": "execute_result"
    }
   ],
   "source": [
    "imgIds"
   ]
  },
  {
   "cell_type": "code",
   "execution_count": 64,
   "id": "3361d000-3f23-4cb1-b8c0-1fe8909d4b5b",
   "metadata": {
    "scrolled": true
   },
   "outputs": [
    {
     "data": {
      "text/plain": [
       "[{'id': 1,\n",
       "  'file_name': 'case15/case15_day0/scans/slice_0068_266_266_1.50_1.50.png',\n",
       "  'width': 266,\n",
       "  'height': 266},\n",
       " {'id': 2,\n",
       "  'file_name': 'case9/case9_day0/scans/slice_0099_360_310_1.50_1.50.png',\n",
       "  'width': 360,\n",
       "  'height': 310},\n",
       " {'id': 3,\n",
       "  'file_name': 'case130/case130_day0/scans/slice_0107_266_266_1.50_1.50.png',\n",
       "  'width': 266,\n",
       "  'height': 266},\n",
       " {'id': 4,\n",
       "  'file_name': 'case74/case74_day0/scans/slice_0091_266_266_1.50_1.50.png',\n",
       "  'width': 266,\n",
       "  'height': 266},\n",
       " {'id': 5,\n",
       "  'file_name': 'case44/case44_day0/scans/slice_0092_266_266_1.50_1.50.png',\n",
       "  'width': 266,\n",
       "  'height': 266},\n",
       " {'id': 6,\n",
       "  'file_name': 'case125/case125_day15/scans/slice_0066_266_266_1.50_1.50.png',\n",
       "  'width': 266,\n",
       "  'height': 266},\n",
       " {'id': 7,\n",
       "  'file_name': 'case141/case141_day13/scans/slice_0068_266_266_1.50_1.50.png',\n",
       "  'width': 266,\n",
       "  'height': 266},\n",
       " {'id': 8,\n",
       "  'file_name': 'case54/case54_day30/scans/slice_0039_266_266_1.50_1.50.png',\n",
       "  'width': 266,\n",
       "  'height': 266},\n",
       " {'id': 9,\n",
       "  'file_name': 'case113/case113_day22/scans/slice_0076_360_310_1.50_1.50.png',\n",
       "  'width': 360,\n",
       "  'height': 310},\n",
       " {'id': 10,\n",
       "  'file_name': 'case66/case66_day0/scans/slice_0056_266_266_1.50_1.50.png',\n",
       "  'width': 266,\n",
       "  'height': 266},\n",
       " {'id': 11,\n",
       "  'file_name': 'case77/case77_day18/scans/slice_0103_266_266_1.50_1.50.png',\n",
       "  'width': 266,\n",
       "  'height': 266},\n",
       " {'id': 12,\n",
       "  'file_name': 'case125/case125_day0/scans/slice_0089_266_266_1.50_1.50.png',\n",
       "  'width': 266,\n",
       "  'height': 266},\n",
       " {'id': 13,\n",
       "  'file_name': 'case129/case129_day20/scans/slice_0093_360_310_1.50_1.50.png',\n",
       "  'width': 360,\n",
       "  'height': 310},\n",
       " {'id': 14,\n",
       "  'file_name': 'case36/case36_day8/scans/slice_0056_266_266_1.50_1.50.png',\n",
       "  'width': 266,\n",
       "  'height': 266},\n",
       " {'id': 15,\n",
       "  'file_name': 'case35/case35_day13/scans/slice_0041_276_276_1.63_1.63.png',\n",
       "  'width': 276,\n",
       "  'height': 276},\n",
       " {'id': 16,\n",
       "  'file_name': 'case156/case156_day10/scans/slice_0095_266_266_1.50_1.50.png',\n",
       "  'width': 266,\n",
       "  'height': 266},\n",
       " {'id': 17,\n",
       "  'file_name': 'case2/case2_day1/scans/slice_0107_266_266_1.50_1.50.png',\n",
       "  'width': 266,\n",
       "  'height': 266},\n",
       " {'id': 18,\n",
       "  'file_name': 'case20/case20_day22/scans/slice_0071_266_266_1.50_1.50.png',\n",
       "  'width': 266,\n",
       "  'height': 266},\n",
       " {'id': 19,\n",
       "  'file_name': 'case43/case43_day20/scans/slice_0084_266_266_1.50_1.50.png',\n",
       "  'width': 266,\n",
       "  'height': 266},\n",
       " {'id': 20,\n",
       "  'file_name': 'case122/case122_day25/scans/slice_0053_266_266_1.50_1.50.png',\n",
       "  'width': 266,\n",
       "  'height': 266}]"
      ]
     },
     "execution_count": 64,
     "metadata": {},
     "output_type": "execute_result"
    }
   ],
   "source": [
    "image_list"
   ]
  },
  {
   "cell_type": "code",
   "execution_count": 67,
   "id": "ca541af8-bf42-47c2-935d-44ddeb923736",
   "metadata": {},
   "outputs": [],
   "source": [
    "X = np.empty((batch_size,128,128,3))\n",
    "y = np.empty((batch_size,128,128,3))\n",
    "\n",
    "np.random.shuffle(indexes)      \n",
    "index = 0\n",
    "indexes = indexes[index*batch_size:(index+1)*batch_size]"
   ]
  },
  {
   "cell_type": "code",
   "execution_count": 68,
   "id": "6d3398da-6fb1-4095-a462-c700284c853b",
   "metadata": {},
   "outputs": [
    {
     "data": {
      "text/plain": [
       "array([ 3, 18, 17, 16,  6, 13, 19, 15,  8,  5, 12, 10,  7,  4,  1,  2, 14,\n",
       "       11,  0,  9])"
      ]
     },
     "execution_count": 68,
     "metadata": {},
     "output_type": "execute_result"
    }
   ],
   "source": [
    "indexes"
   ]
  },
  {
   "cell_type": "code",
   "execution_count": 74,
   "id": "43067f1a-848a-4992-8324-f3a13df713ed",
   "metadata": {},
   "outputs": [],
   "source": [
    "import cv2\n",
    "def getImage(file_path):\n",
    "    train_img = cv2.imread(os.path.join(dataset_dir, file_path), cv2.IMREAD_ANYDEPTH)\n",
    "    train_img = cv2.resize(train_img, (128, 128))\n",
    "    train_img = train_img.astype(np.float32) / 255.\n",
    "    if (len(train_img.shape)==3 and train_img.shape[2]==3): \n",
    "        return train_img\n",
    "    else: \n",
    "        stacked_img = np.stack((train_img,)*3, axis=-1)\n",
    "    return stacked_img      "
   ]
  },
  {
   "cell_type": "code",
   "execution_count": 122,
   "id": "8d15e66b-edd2-4940-a247-2ef16c88926d",
   "metadata": {},
   "outputs": [],
   "source": [
    "for i in range(len(indexes[:1])):\n",
    "    value = indexes[i]\n",
    "    img_info = image_list[value]\n",
    "    w = img_info['height']\n",
    "    h = img_info['width']\n",
    "    X[i,] = getImage(img_info['file_name']) \n",
    "    mask_train = res"
   ]
  },
  {
   "cell_type": "code",
   "execution_count": 123,
   "id": "58410025-93d7-4b63-a5c7-9036257d11a7",
   "metadata": {},
   "outputs": [],
   "source": [
    "for j in catIds:\n",
    "    y[i,:,:,j] = mask_train[j]   "
   ]
  },
  {
   "cell_type": "code",
   "execution_count": 120,
   "id": "bfa4e00d-fcf1-4bc8-ac92-9818a3cb8206",
   "metadata": {},
   "outputs": [],
   "source": [
    "image_id = img_info['id']\n",
    "res = []  \n",
    "mask = np.zeros((128, 128))\n",
    "for j,categorie in enumerate(catIds):\n",
    "    mask = getNormalMask(image_id,categorie)\n",
    "    res.append(mask)"
   ]
  },
  {
   "cell_type": "code",
   "execution_count": 121,
   "id": "0783a431-d722-47c0-87ce-cbc77ea7eb8c",
   "metadata": {},
   "outputs": [
    {
     "data": {
      "text/plain": [
       "[array([[0, 0, 0, ..., 0, 0, 0],\n",
       "        [0, 0, 0, ..., 0, 0, 0],\n",
       "        [0, 0, 0, ..., 0, 0, 0],\n",
       "        ...,\n",
       "        [0, 0, 0, ..., 0, 0, 0],\n",
       "        [0, 0, 0, ..., 0, 0, 0],\n",
       "        [0, 0, 0, ..., 0, 0, 0]], dtype=uint8),\n",
       " array([[0, 0, 0, ..., 0, 0, 0],\n",
       "        [0, 0, 0, ..., 0, 0, 0],\n",
       "        [0, 0, 0, ..., 0, 0, 0],\n",
       "        ...,\n",
       "        [0, 0, 0, ..., 0, 0, 0],\n",
       "        [0, 0, 0, ..., 0, 0, 0],\n",
       "        [0, 0, 0, ..., 0, 0, 0]], dtype=uint8),\n",
       " array([[0, 0, 0, ..., 0, 0, 0],\n",
       "        [0, 0, 0, ..., 0, 0, 0],\n",
       "        [0, 0, 0, ..., 0, 0, 0],\n",
       "        ...,\n",
       "        [0, 0, 0, ..., 0, 0, 0],\n",
       "        [0, 0, 0, ..., 0, 0, 0],\n",
       "        [0, 0, 0, ..., 0, 0, 0]], dtype=uint8)]"
      ]
     },
     "execution_count": 121,
     "metadata": {},
     "output_type": "execute_result"
    }
   ],
   "source": [
    "res"
   ]
  },
  {
   "cell_type": "code",
   "execution_count": 104,
   "id": "6b8225c2-a300-4848-9276-971f7567d378",
   "metadata": {},
   "outputs": [
    {
     "data": {
      "text/plain": [
       "[0, 1, 2]"
      ]
     },
     "execution_count": 104,
     "metadata": {},
     "output_type": "execute_result"
    }
   ],
   "source": [
    "catIds"
   ]
  },
  {
   "cell_type": "code",
   "execution_count": 113,
   "id": "87c7b6ca-d918-491b-af58-01ac91615faa",
   "metadata": {},
   "outputs": [
    {
     "name": "stdout",
     "output_type": "stream",
     "text": [
      "[16]\n",
      "[{'segmentation': {'counts': [25895, 7, 258, 9, 256, 11, 254, 13, 253, 14, 251, 15, 250, 17, 249, 17, 248, 18, 248, 19, 246, 20, 246, 20, 246, 20, 245, 21, 244, 22, 243, 23, 241, 25, 239, 27, 237, 29, 236, 30, 235, 31, 234, 32, 233, 33, 232, 33, 233, 33, 232, 34, 232, 34, 232, 33, 233, 33, 232, 33, 233, 33, 234, 31, 235, 30, 237, 29, 237, 28, 239, 27, 239, 26, 240, 25, 242, 23, 243, 22, 244, 21, 245, 21, 246, 19, 247, 18, 249, 17, 249, 17, 250, 14, 253, 11, 257, 8, 32098], 'size': [266, 266]}, 'bbox': [97, 70, 49, 36], 'area': 287130, 'image_id': 4, 'category_id': 2, 'iscrowd': 0, 'id': 16}]\n",
      "[{'id': 0, 'name': 'small_bowel'}, {'id': 1, 'name': 'large_bowel'}, {'id': 2, 'name': 'stomach'}]\n"
     ]
    },
    {
     "data": {
      "text/plain": [
       "<matplotlib.image.AxesImage at 0x7fe9e6e84ac0>"
      ]
     },
     "execution_count": 113,
     "metadata": {},
     "output_type": "execute_result"
    },
    {
     "data": {
      "image/png": "[encoded data removed]",
      "text/plain": [
       "<Figure size 640x480 with 1 Axes>"
      ]
     },
     "metadata": {},
     "output_type": "display_data"
    }
   ],
   "source": [
    "annIds = coco.getAnnIds(4, catIds=2, iscrowd=None)\n",
    "print(annIds)\n",
    "anns = coco.loadAnns(annIds)\n",
    "print(anns)\n",
    "cats = coco.loadCats(catIds)\n",
    "print(cats)\n",
    "train_mask = np.zeros((128, 128),dtype=np.uint8)\n",
    "plt.imshow(train_mask)"
   ]
  },
  {
   "cell_type": "code",
   "execution_count": 114,
   "id": "8325017a-2a29-4230-bde0-ddb97bcf860e",
   "metadata": {},
   "outputs": [
    {
     "name": "stdout",
     "output_type": "stream",
     "text": [
      "3\n"
     ]
    }
   ],
   "source": [
    "className = 'stomach'\n",
    "pixel_value = classes.index(className)+1\n",
    "print(pixel_value)"
   ]
  },
  {
   "cell_type": "code",
   "execution_count": 115,
   "id": "1a169a6f-48fc-4c1f-99b3-c09f4b4deeaf",
   "metadata": {},
   "outputs": [],
   "source": [
    "def getClassName(classID, cats):\n",
    "    for i in range(len(cats)):\n",
    "        if cats[i]['id']==classID:\n",
    "            return cats[i]['name']\n",
    "    return None"
   ]
  },
  {
   "cell_type": "code",
   "execution_count": 116,
   "id": "835b9193-40da-4435-9916-53fbded5d442",
   "metadata": {},
   "outputs": [
    {
     "data": {
      "image/png": "[encoded data removed]",
      "text/plain": [
       "<Figure size 640x480 with 1 Axes>"
      ]
     },
     "metadata": {},
     "output_type": "display_data"
    },
    {
     "data": {
      "image/png": "[encoded data removed]",
      "text/plain": [
       "<Figure size 640x480 with 1 Axes>"
      ]
     },
     "metadata": {},
     "output_type": "display_data"
    }
   ],
   "source": [
    "plt.imshow(coco.annToMask(anns[0]))\n",
    "plt.show()\n",
    "plt.imshow(coco.annToMask(anns[0])*pixel_value)\n",
    "plt.show()"
   ]
  },
  {
   "cell_type": "code",
   "execution_count": 117,
   "id": "58826d94-92b5-45c0-9c05-c286ff7b44ca",
   "metadata": {},
   "outputs": [
    {
     "data": {
      "text/plain": [
       "<matplotlib.image.AxesImage at 0x7fe9e6ebd240>"
      ]
     },
     "execution_count": 117,
     "metadata": {},
     "output_type": "execute_result"
    },
    {
     "data": {
      "image/png": "[encoded data removed]",
      "text/plain": [
       "<Figure size 640x480 with 1 Axes>"
      ]
     },
     "metadata": {},
     "output_type": "display_data"
    }
   ],
   "source": [
    "new_mask = cv2.resize(coco.annToMask(anns[0])*pixel_value, (128, 128))\n",
    "plt.imshow(new_mask)"
   ]
  },
  {
   "cell_type": "code",
   "execution_count": 103,
   "id": "cf4030d7-7923-4f8a-9f8d-ede31d71e2b4",
   "metadata": {},
   "outputs": [
    {
     "data": {
      "text/plain": [
       "array([[0, 0, 0, ..., 0, 0, 0],\n",
       "       [0, 0, 0, ..., 0, 0, 0],\n",
       "       [0, 0, 0, ..., 0, 0, 0],\n",
       "       ...,\n",
       "       [0, 0, 0, ..., 0, 0, 0],\n",
       "       [0, 0, 0, ..., 0, 0, 0],\n",
       "       [0, 0, 0, ..., 0, 0, 0]], dtype=uint8)"
      ]
     },
     "execution_count": 103,
     "metadata": {},
     "output_type": "execute_result"
    }
   ],
   "source": [
    "train_mask = np.maximum(new_mask, train_mask)\n",
    "train_mask"
   ]
  },
  {
   "cell_type": "code",
   "execution_count": null,
   "id": "e104b892-170d-4778-83a5-2431f08cf1ed",
   "metadata": {},
   "outputs": [],
   "source": [
    "for a in range(len(anns)):\n",
    "    className = getClassName(anns[a]['category_id'], cats)"
   ]
  },
  {
   "cell_type": "code",
   "execution_count": 118,
   "id": "949816d5-2b98-462e-bb13-c2064168bd92",
   "metadata": {},
   "outputs": [],
   "source": [
    "input_image_size = (128, 128)\n",
    "def getNormalMask(image_id, catIds):\n",
    "    annIds = coco.getAnnIds(image_id, catIds=catIds, iscrowd=None)\n",
    "    anns = coco.loadAnns(annIds)\n",
    "    cats = coco.loadCats(catIds)\n",
    "    train_mask = np.zeros((128, 128),dtype=np.uint8)\n",
    "    for a in range(len(anns)):\n",
    "        className = getClassName(anns[a]['category_id'], cats)\n",
    "        pixel_value = classes.index(className)+1\n",
    "        new_mask = cv2.resize(coco.annToMask(anns[a])*pixel_value, input_image_size)\n",
    "        train_mask = np.maximum(new_mask, train_mask)\n",
    "        # train_mask = new_mask / 255.0\n",
    "    return train_mask  "
   ]
  },
  {
   "cell_type": "code",
   "execution_count": null,
   "id": "72ee8945-9564-4cc2-b34d-3de75c1ce11f",
   "metadata": {},
   "outputs": [],
   "source": []
  },
  {
   "cell_type": "code",
   "execution_count": 40,
   "id": "83601383-32f7-44ff-89df-9cbb921531df",
   "metadata": {},
   "outputs": [
    {
     "data": {
      "text/plain": [
       "array([12,  5, 16, 17, 15,  0,  1, 18,  8,  3,  2,  6,  7, 19,  4, 14, 11,\n",
       "        9, 13, 10])"
      ]
     },
     "execution_count": 40,
     "metadata": {},
     "output_type": "execute_result"
    }
   ],
   "source": [
    "# def getNormalMask(image_id,catIds):\n",
    "image_id = imgs[\n",
    "\n",
    "\n",
    "    annIds = coco.getAnnIds(image_id, catIds=catIds, iscrowd=None)\n",
    "    anns = self.coco.loadAnns(annIds)\n",
    "    cats = self.coco.loadCats(catIds)\n",
    "    train_mask = np.zeros(self.input_image_size,dtype=np.uint8)\n",
    "    for a in range(len(anns)):\n",
    "        className = self.getClassName(anns[a]['category_id'], cats)\n",
    "        pixel_value = self.classes.index(className)+1\n",
    "        new_mask = cv2.resize(self.coco.annToMask(anns[a])*pixel_value, self.input_image_size)\n",
    "        train_mask = np.maximum(new_mask, train_mask)\n",
    "        # train_mask = new_mask / 255.0\n",
    "    return train_mask     "
   ]
  },
  {
   "cell_type": "code",
   "execution_count": null,
   "id": "97338261-01ec-49b3-a067-d57c3e3a1204",
   "metadata": {},
   "outputs": [],
   "source": []
  },
  {
   "cell_type": "code",
   "execution_count": 40,
   "id": "007c5b2b-668d-40fa-b3db-e31d8808aa0d",
   "metadata": {},
   "outputs": [
    {
     "name": "stdout",
     "output_type": "stream",
     "text": [
      "loading annotations into memory...\n"
     ]
    },
    {
     "ename": "TypeError",
     "evalue": "expected str, bytes or os.PathLike object, not list",
     "output_type": "error",
     "traceback": [
      "\u001b[0;31m---------------------------------------------------------------------------\u001b[0m",
      "\u001b[0;31mTypeError\u001b[0m                                 Traceback (most recent call last)",
      "Cell \u001b[0;32mIn[40], line 2\u001b[0m\n\u001b[1;32m      1\u001b[0m indexes \u001b[38;5;241m=\u001b[39m np\u001b[38;5;241m.\u001b[39marange(\u001b[38;5;28mlen\u001b[39m(temp_images))\n\u001b[0;32m----> 2\u001b[0m coco \u001b[38;5;241m=\u001b[39m \u001b[43mCOCO\u001b[49m\u001b[43m(\u001b[49m\u001b[43mtemp_annotations\u001b[49m\u001b[43m)\u001b[49m\n",
      "File \u001b[0;32m~/opt/anaconda3/envs/cv/lib/python3.10/site-packages/pycocotools/coco.py:81\u001b[0m, in \u001b[0;36mCOCO.__init__\u001b[0;34m(self, annotation_file)\u001b[0m\n\u001b[1;32m     79\u001b[0m \u001b[38;5;28mprint\u001b[39m(\u001b[38;5;124m'\u001b[39m\u001b[38;5;124mloading annotations into memory...\u001b[39m\u001b[38;5;124m'\u001b[39m)\n\u001b[1;32m     80\u001b[0m tic \u001b[38;5;241m=\u001b[39m time\u001b[38;5;241m.\u001b[39mtime()\n\u001b[0;32m---> 81\u001b[0m \u001b[38;5;28;01mwith\u001b[39;00m \u001b[38;5;28;43mopen\u001b[39;49m\u001b[43m(\u001b[49m\u001b[43mannotation_file\u001b[49m\u001b[43m,\u001b[49m\u001b[43m \u001b[49m\u001b[38;5;124;43m'\u001b[39;49m\u001b[38;5;124;43mr\u001b[39;49m\u001b[38;5;124;43m'\u001b[39;49m\u001b[43m)\u001b[49m \u001b[38;5;28;01mas\u001b[39;00m f:\n\u001b[1;32m     82\u001b[0m     dataset \u001b[38;5;241m=\u001b[39m json\u001b[38;5;241m.\u001b[39mload(f)\n\u001b[1;32m     83\u001b[0m \u001b[38;5;28;01massert\u001b[39;00m \u001b[38;5;28mtype\u001b[39m(dataset)\u001b[38;5;241m==\u001b[39m\u001b[38;5;28mdict\u001b[39m, \u001b[38;5;124m'\u001b[39m\u001b[38;5;124mannotation file format \u001b[39m\u001b[38;5;132;01m{}\u001b[39;00m\u001b[38;5;124m not supported\u001b[39m\u001b[38;5;124m'\u001b[39m\u001b[38;5;241m.\u001b[39mformat(\u001b[38;5;28mtype\u001b[39m(dataset))\n",
      "\u001b[0;31mTypeError\u001b[0m: expected str, bytes or os.PathLike object, not list"
     ]
    }
   ],
   "source": [
    "indexes = np.arange(len(temp_images))\n",
    "coco = COCO(temp_annotations)"
   ]
  },
  {
   "cell_type": "code",
   "execution_count": null,
   "id": "9989081e-d224-4887-8399-de2b8b519d74",
   "metadata": {},
   "outputs": [],
   "source": []
  },
  {
   "cell_type": "code",
   "execution_count": null,
   "id": "f75db989-aa54-4d40-a142-a28169fba2aa",
   "metadata": {},
   "outputs": [],
   "source": []
  },
  {
   "cell_type": "code",
   "execution_count": null,
   "id": "7f892940-34ba-4c4c-ba19-aff623c1f0cc",
   "metadata": {},
   "outputs": [],
   "source": []
  },
  {
   "cell_type": "code",
   "execution_count": null,
   "id": "a759c221-e978-4045-9edb-7b30e71dc8f3",
   "metadata": {},
   "outputs": [],
   "source": []
  },
  {
   "cell_type": "code",
   "execution_count": 29,
   "id": "b0924b25-9909-4291-b9fd-563018cbf13b",
   "metadata": {},
   "outputs": [],
   "source": [
    "filepath = sd.processed_df['file_path'].unique().tolist()[0]"
   ]
  },
  {
   "cell_type": "code",
   "execution_count": 30,
   "id": "d1918286-df88-49fb-b51a-f7abec03b551",
   "metadata": {},
   "outputs": [
    {
     "data": {
      "text/plain": [
       "'datasets/train/case123/case123_day20/scans/slice_0065_266_266_1.50_1.50.png'"
      ]
     },
     "execution_count": 30,
     "metadata": {},
     "output_type": "execute_result"
    }
   ],
   "source": [
    "filepath"
   ]
  },
  {
   "cell_type": "code",
   "execution_count": 32,
   "id": "05405a55-18a7-48c8-ab08-19416368a213",
   "metadata": {},
   "outputs": [
    {
     "data": {
      "text/plain": [
       "'case123_day20_slice_0065'"
      ]
     },
     "execution_count": 32,
     "metadata": {},
     "output_type": "execute_result"
    }
   ],
   "source": [
    "file_id = ('_'.join(\n",
    "            (filepath.split(\"/\")[-3] + \"_\" + filepath.split(\"/\")[-1]).split(\"_\")[:-4]))\n",
    "\n",
    "file_id"
   ]
  },
  {
   "cell_type": "code",
   "execution_count": null,
   "id": "86b51a7f-9129-428d-b7ed-795794357d2a",
   "metadata": {},
   "outputs": [],
   "source": []
  }
 ],
 "metadata": {
  "kernelspec": {
   "display_name": "Python 3 (ipykernel)",
   "language": "python",
   "name": "python3"
  },
  "language_info": {
   "codemirror_mode": {
    "name": "ipython",
    "version": 3
   },
   "file_extension": ".py",
   "mimetype": "text/x-python",
   "name": "python",
   "nbconvert_exporter": "python",
   "pygments_lexer": "ipython3",
   "version": "3.10.13"
  }
 },
 "nbformat": 4,
 "nbformat_minor": 5
}
