{
 "cells": [
  {
   "cell_type": "code",
   "execution_count": 1,
   "id": "41b04207-3047-4c58-bd90-4895ad115515",
   "metadata": {},
   "outputs": [],
   "source": [
    "import os\n",
    "import pycocotools\n",
    "from pycocotools import mask\n",
    "import pycocotools.mask as mask_util\n",
    "import numpy as np\n",
    "import json\n",
    "from pycocotools.coco import COCO\n",
    "from sklearn.model_selection import train_test_split\n",
    "import random \n",
    "import matplotlib.pyplot as plt\n",
    "import seaborn as sns\n",
    "import matplotlib.gridspec as gridspec\n",
    "import matplotlib.patches as mpatches\n",
    "import matplotlib as mpl\n",
    "from tqdm import tqdm\n",
    "\n",
    "def np_encoder(object):\n",
    "    if isinstance(object, np.generic):\n",
    "        return object.item()\n",
    "\n",
    "import torch\n",
    "import torch.nn as nn\n",
    "import torch.nn.functional as F\n",
    "from torch.utils.data import DataLoader\n",
    "from matplotlib.colors import ListedColormap\n",
    "import segmentation_models_pytorch as smp"
   ]
  },
  {
   "cell_type": "code",
   "execution_count": 2,
   "id": "3564b5a2-40e6-4914-a33c-f440668b8c68",
   "metadata": {},
   "outputs": [
    {
     "data": {
      "text/plain": [
       "'/Users/srikaranreddy/Desktop/Spring Semester/Computer Vision 6.8300/cv-project/gi-tract-image-segmentation'"
      ]
     },
     "execution_count": 2,
     "metadata": {},
     "output_type": "execute_result"
    }
   ],
   "source": [
    "os.getcwd()\n",
    "\n",
    "os.chdir('../')\n",
    "\n",
    "os.getcwd()"
   ]
  },
  {
   "cell_type": "code",
   "execution_count": 3,
   "id": "a34dc05e-567e-4f69-ab60-0da872424b58",
   "metadata": {},
   "outputs": [],
   "source": [
    "from src.data import SegmentationDataset\n",
    "from src.data import DataGenerator\n",
    "\n",
    "CLASSES = ['small_bowel', 'large_bowel', 'stomach']"
   ]
  },
  {
   "cell_type": "code",
   "execution_count": 4,
   "id": "ab70d3d5-0408-4833-86f7-a52d252651f4",
   "metadata": {},
   "outputs": [],
   "source": [
    "# Dice Loss\n",
    "class DiceLoss(nn.Module):\n",
    "    def __init__(self, smooth=1):\n",
    "        super(DiceLoss, self).__init__()\n",
    "        self.smooth = smooth\n",
    "\n",
    "    def forward(self, y_pred, y_true):\n",
    "        y_pred = y_pred.contiguous().view(-1)\n",
    "        y_true = y_true.contiguous().view(-1)\n",
    "        intersection = (y_pred * y_true).sum()\n",
    "        dice = (2. * intersection + self.smooth) / (y_pred.sum() + y_true.sum() + self.smooth)\n",
    "        return 1 - dice\n",
    "\n",
    "def dice_coef_func(y_true, y_pred, smooth=1):\n",
    "    y_true_f = y_true.contiguous().view(-1)\n",
    "    y_pred_f = y_pred.contiguous().view(-1)\n",
    "    intersection = torch.sum(y_true_f * y_pred_f)\n",
    "    return (2. * intersection + smooth) / (torch.sum(y_true_f) + torch.sum(y_pred_f) + smooth)"
   ]
  },
  {
   "cell_type": "code",
   "execution_count": 5,
   "id": "dcb3406a-dcfc-4286-9a3f-ad9199f0e54a",
   "metadata": {},
   "outputs": [
    {
     "name": "stdout",
     "output_type": "stream",
     "text": [
      "loading annotations into memory...\n",
      "Done (t=0.76s)\n",
      "creating index...\n",
      "index created!\n",
      "loading annotations into memory...\n",
      "Done (t=0.27s)\n",
      "creating index...\n",
      "index created!\n",
      "loading annotations into memory...\n",
      "Done (t=0.20s)\n",
      "creating index...\n",
      "index created!\n"
     ]
    }
   ],
   "source": [
    "train_generator_class = DataGenerator(dataset_dir='datasets/train',\n",
    "                                     subset=\"train\",\n",
    "                                     classes=CLASSES,\n",
    "                                     input_image_size=(128,128),\n",
    "                                     annFile='datasets/coco/train_json.json',\n",
    "                                     shuffle=True)\n",
    "\n",
    "val_generator_class = DataGenerator(dataset_dir='datasets/train',\n",
    "                                     subset=\"train\",\n",
    "                                     classes=CLASSES,\n",
    "                                     input_image_size=(128,128),\n",
    "                                     annFile='datasets/coco/val_json.json',\n",
    "                                     shuffle=True)\n",
    "\n",
    "test_generator_class = DataGenerator(dataset_dir='datasets/train',\n",
    "                                     subset=\"test\",\n",
    "                                     classes=CLASSES,\n",
    "                                     input_image_size=(128,128),\n",
    "                                     annFile='datasets/coco/test_json.json',\n",
    "                                     shuffle=False)"
   ]
  },
  {
   "cell_type": "code",
   "execution_count": 6,
   "id": "f1933a19-0f30-4144-aded-d709d2e6fd2d",
   "metadata": {},
   "outputs": [],
   "source": [
    "import matplotlib.pyplot as plt\n",
    "from matplotlib.colors import ListedColormap\n",
    "import matplotlib.patches as mpatches\n",
    "\n",
    "def plot_masks(X, y):\n",
    "    # Create custom colormaps for the masks\n",
    "    cmap1 = ListedColormap(['none', 'red'])  # Mask 1 in red\n",
    "    cmap2 = ListedColormap(['none', 'green'])  # Mask 2 in green\n",
    "    cmap3 = ListedColormap(['none', 'blue'])  # Mask 3 in blue\n",
    "    \n",
    "    fig, ax = plt.subplots()\n",
    "    # Display the grayscale image\n",
    "    ax.imshow((X/255.)[:,:,0], cmap='gray')\n",
    "    \n",
    "    # Display the first mask\n",
    "    ax.imshow(y[:,:,0], cmap=cmap1, alpha=0.5)\n",
    "    \n",
    "    # Display the second mask\n",
    "    ax.imshow(y[:,:,1], cmap=cmap2, alpha=0.5)\n",
    "    \n",
    "    # Display the third mask\n",
    "    ax.imshow(y[:,:,2], cmap=cmap3, alpha=0.5)\n",
    "    \n",
    "    # Create a legend for the masks\n",
    "    red_patch = mpatches.Patch(color='red', label='Small Bowel')\n",
    "    green_patch = mpatches.Patch(color='green', label='Large Bowel')\n",
    "    blue_patch = mpatches.Patch(color='blue', label='Stomach')\n",
    "    plt.legend(handles=[red_patch, green_patch, blue_patch])\n",
    "    \n",
    "    # Show the plot\n",
    "    plt.show()"
   ]
  },
  {
   "cell_type": "code",
   "execution_count": 7,
   "id": "89db23d7-d164-443d-ade6-e6196bab2b4d",
   "metadata": {},
   "outputs": [
    {
     "data": {
      "image/png": "[encoded data removed]",
      "text/plain": [
       "<Figure size 640x480 with 1 Axes>"
      ]
     },
     "metadata": {},
     "output_type": "display_data"
    }
   ],
   "source": [
    "# Assuming X and y are loaded as mentioned\n",
    "X, y = train_generator_class.__getitem__(9)\n",
    "\n",
    "plot_masks(X, y)"
   ]
  },
  {
   "cell_type": "code",
   "execution_count": 8,
   "id": "b5079341-4924-44ad-87ec-e4f74571d0eb",
   "metadata": {},
   "outputs": [],
   "source": [
    "train_loader = DataLoader(train_generator_class, batch_size=32, num_workers=0)\n",
    "val_loader = DataLoader(val_generator_class, batch_size=32, num_workers=0)\n",
    "test_loader = DataLoader(test_generator_class, batch_size=32, num_workers=0)"
   ]
  },
  {
   "cell_type": "code",
   "execution_count": 9,
   "id": "ffd51ddf-996f-4e8c-8147-d9b7ae79b8f5",
   "metadata": {},
   "outputs": [
    {
     "name": "stdout",
     "output_type": "stream",
     "text": [
      "Batch size: 32\n",
      "Num workers: 0\n",
      "Dataset size: 14269\n",
      "Number of batches: 446\n"
     ]
    }
   ],
   "source": [
    "print(\"Batch size:\", train_loader.batch_size)\n",
    "print(\"Num workers:\", train_loader.num_workers)\n",
    "print(\"Dataset size:\", len(train_loader.dataset))\n",
    "print(\"Number of batches:\", len(train_loader))"
   ]
  },
  {
   "cell_type": "code",
   "execution_count": 10,
   "id": "da0ac938-464b-4411-b060-e7bf563c00c5",
   "metadata": {},
   "outputs": [
    {
     "name": "stdout",
     "output_type": "stream",
     "text": [
      "Using device: cpu\n"
     ]
    }
   ],
   "source": [
    "device = torch.device(\"cuda\" if torch.cuda.is_available() else \"cpu\")\n",
    "print(\"Using device:\", device)"
   ]
  },
  {
   "cell_type": "code",
   "execution_count": 11,
   "id": "8bdea3c8-5792-43cf-a612-deec23ba091c",
   "metadata": {},
   "outputs": [],
   "source": [
    "class ConvBlock(nn.Module):\n",
    "    def __init__(self, in_channels, out_channels):\n",
    "        super(ConvBlock, self).__init__()\n",
    "        self.conv1 = nn.Conv2d(in_channels, out_channels, kernel_size=3, padding=1)\n",
    "        self.norm1 = nn.InstanceNorm2d(out_channels)\n",
    "        self.relu1 = nn.LeakyReLU(0.1)\n",
    "\n",
    "        self.conv2 = nn.Conv2d(out_channels, out_channels, kernel_size=3, padding=1)\n",
    "        self.norm2 = nn.InstanceNorm2d(out_channels)\n",
    "        self.relu2 = nn.LeakyReLU(0.1)\n",
    "        self._init_weights()\n",
    "\n",
    "    def forward(self, x):\n",
    "        x = self.relu1(self.norm1(self.conv1(x)))\n",
    "        x = self.relu2(self.norm2(self.conv2(x)))\n",
    "        return x\n",
    "\n",
    "    def _init_weights(self):\n",
    "        for m in self.modules():\n",
    "            if isinstance(m, nn.Conv2d):\n",
    "                nn.init.kaiming_normal_(m.weight, mode='fan_out', nonlinearity='relu')\n",
    "                if m.bias is not None:\n",
    "                    nn.init.constant_(m.bias, 0)\n"
   ]
  },
  {
   "cell_type": "code",
   "execution_count": 12,
   "id": "4efe4bbc-8dc9-4fa5-bbac-279bdb80e537",
   "metadata": {},
   "outputs": [],
   "source": [
    "class Down(nn.Module):\n",
    "    \"\"\"Downscaling with maxpool then double conv\"\"\"\n",
    "    def __init__(self, in_channels, out_channels):\n",
    "        super(Down, self).__init__()\n",
    "        self.maxpool_conv = nn.Sequential(\n",
    "            nn.MaxPool2d(2),\n",
    "            ConvBlock(in_channels, out_channels)\n",
    "        )\n",
    "\n",
    "    def forward(self, x):\n",
    "        return self.maxpool_conv(x)\n",
    "\n",
    "class Up(nn.Module):\n",
    "    \"\"\"Upscaling then double conv\"\"\"\n",
    "    def __init__(self, in_channels, out_channels):\n",
    "        super(Up, self).__init__()\n",
    "        self.up = nn.ConvTranspose2d(in_channels, in_channels // 2, kernel_size=2, stride=2)\n",
    "        self.conv = ConvBlock(in_channels, out_channels)\n",
    "        self._init_weights()\n",
    "\n",
    "    def forward(self, x, skip):\n",
    "        x = self.up(x)\n",
    "        x = torch.cat([x, skip], dim=1)\n",
    "        return self.conv(x)\n",
    "\n",
    "    def _init_weights(self):\n",
    "        # Initialize weights for the transpose convolution\n",
    "        nn.init.kaiming_normal_(self.up.weight, mode='fan_out', nonlinearity='relu')\n",
    "        if self.up.bias is not None:\n",
    "            nn.init.constant_(self.up.bias, 0)\n"
   ]
  },
  {
   "cell_type": "code",
   "execution_count": 15,
   "id": "0fa69f02-bed8-4e4b-af5e-605f55bb7b35",
   "metadata": {},
   "outputs": [],
   "source": [
    "class SimpleUNet(nn.Module):\n",
    "    def __init__(self):\n",
    "        super(SimpleUNet, self).__init__()\n",
    "        self.inc = ConvBlock(3, 64)\n",
    "        self.down1 = Down(64, 128)\n",
    "        self.down2 = Down(128, 256)\n",
    "        self.down3 = Down(256, 512)\n",
    "        self.down4 = Down(512, 1024)\n",
    "\n",
    "        self.up1 = Up(1024, 512)\n",
    "        self.up2 = Up(512, 256)\n",
    "        self.up3 = Up(256, 128)\n",
    "        self.up4 = Up(128, 64)\n",
    "\n",
    "        self.outc = nn.Conv2d(64, 3, kernel_size=1)\n",
    "        self.sigmoid = nn.Sigmoid()\n",
    "\n",
    "        self._init_weights()\n",
    "\n",
    "    def forward(self, x):\n",
    "        x1 = self.inc(x)\n",
    "        x2 = self.down1(x1)\n",
    "        x3 = self.down2(x2)\n",
    "        x4 = self.down3(x3)\n",
    "        x5 = self.down4(x4)\n",
    "\n",
    "        x = self.up1(x5, x4)\n",
    "        x = self.up2(x, x3)\n",
    "        x = self.up3(x, x2)\n",
    "        x = self.up4(x, x1)\n",
    "\n",
    "        logits = self.outc(x)\n",
    "        return self.sigmoid(logits)\n",
    "\n",
    "    def _init_weights(self):\n",
    "        # Initialize weights for the final output convolution\n",
    "        nn.init.kaiming_normal_(self.outc.weight, mode='fan_out', nonlinearity='relu')\n",
    "        if self.outc.bias is not None:\n",
    "            nn.init.constant_(self.outc.bias, 0)\n"
   ]
  },
  {
   "cell_type": "code",
   "execution_count": 16,
   "id": "285d4411-cac5-4b3b-bc9c-109045318519",
   "metadata": {},
   "outputs": [
    {
     "name": "stdout",
     "output_type": "stream",
     "text": [
      "torch.Size([1, 3, 128, 128])\n"
     ]
    }
   ],
   "source": [
    "model = SimpleUNet()\n",
    "input = torch.randn(1, 3, 128, 128)  # Example input\n",
    "output = model(input)\n",
    "print(output.shape)  # Should be torch.Size([1, 3, 128, 128])"
   ]
  },
  {
   "cell_type": "code",
   "execution_count": 17,
   "id": "d707b72f-b4b4-4ebb-9642-3816b2919933",
   "metadata": {},
   "outputs": [],
   "source": [
    "model = SimpleUNet()  # Ensure your model is defined or loaded\n",
    "\n",
    "# Optimizer\n",
    "optimizer = torch.optim.Adam(model.parameters(), lr=0.001)\n",
    "\n",
    "# Scheduler\n",
    "scheduler = torch.optim.lr_scheduler.ReduceLROnPlateau(optimizer, 'min', factor=0.2, patience=5, verbose=True, min_lr=0.001)\n",
    "\n",
    "# Criterion\n",
    "criterion = DiceLoss()"
   ]
  },
  {
   "cell_type": "code",
   "execution_count": 18,
   "id": "1a6a18b1-8bf6-4984-86ac-93127ef4b6fa",
   "metadata": {},
   "outputs": [],
   "source": [
    "class AverageMeter(object):\n",
    "    \"\"\"Computes and stores the average and current value\"\"\"\n",
    "    def __init__(self):\n",
    "        self.reset()\n",
    "\n",
    "    def reset(self):\n",
    "        self.val = 0\n",
    "        self.avg = 0\n",
    "        self.sum = 0\n",
    "        self.count = 0\n",
    "\n",
    "    def update(self, val, n=1):\n",
    "        self.val = val\n",
    "        self.sum += val * n\n",
    "        self.count += n\n",
    "        self.avg = self.sum / self.count"
   ]
  },
  {
   "cell_type": "code",
   "execution_count": null,
   "id": "ef3e749e-3c44-4ab0-b79f-7e59e8bae2ec",
   "metadata": {},
   "outputs": [
    {
     "name": "stdout",
     "output_type": "stream",
     "text": [
      "Using device: cpu\n"
     ]
    },
    {
     "name": "stderr",
     "output_type": "stream",
     "text": [
      "Epoch 0 Training:   0%|                                                                                                               | 0/446 [00:00<?, ?it/s]"
     ]
    }
   ],
   "source": [
    "# Check for CUDA availability\n",
    "device = torch.device(\"cuda\" if torch.cuda.is_available() else \"cpu\")\n",
    "print(\"Using device:\", device)\n",
    "\n",
    "model = SimpleUNet().to(device)\n",
    "\n",
    "# Optimizer and Scheduler\n",
    "optimizer = torch.optim.Adam(model.parameters(), lr=0.001)\n",
    "scheduler = torch.optim.lr_scheduler.ReduceLROnPlateau(optimizer, 'min', factor=0.2, patience=5, verbose=True, min_lr=0.001)\n",
    "\n",
    "# Loss function\n",
    "criterion = DiceLoss().to(device)\n",
    "\n",
    "# Training and validation loops\n",
    "train_losses = []\n",
    "val_losses = []\n",
    "train_dice_coefs = []\n",
    "val_dice_coefs = []\n",
    "epochs = 10\n",
    "\n",
    "for epoch in range(epochs):\n",
    "    model.train()\n",
    "    train_loss_meter = AverageMeter()\n",
    "    dice_coef_meter = AverageMeter()\n",
    "\n",
    "    for data, target in tqdm(train_loader, desc=f'Epoch {epoch} Training'):\n",
    "        data, target = data.to(device), target.to(device)\n",
    "        data = data.permute(0, 3, 1, 2)\n",
    "        target = target.permute(0, 3, 1, 2)\n",
    "        optimizer.zero_grad()\n",
    "        output = model(data)\n",
    "        loss = criterion(output, target)\n",
    "        loss.backward()\n",
    "        optimizer.step()\n",
    "\n",
    "        train_loss_meter.update(loss.item(), data.size(0))\n",
    "        dice_coef_meter.update(dice_coef_func(output, target).item(), data.size(0))\n",
    "\n",
    "    train_losses.append(train_loss_meter.avg)\n",
    "    train_dice_coefs.append(dice_coef_meter.avg)\n",
    "\n",
    "    # Validation phase\n",
    "    model.eval()\n",
    "    val_loss_meter = AverageMeter()\n",
    "    val_dice_coef_meter = AverageMeter()\n",
    "\n",
    "    with torch.no_grad():\n",
    "        for data, target in tqdm(val_loader, desc=f'Epoch {epoch} Validation'):\n",
    "            data, target = data.to(device), target.to(device)\n",
    "            data = data.permute(0, 3, 1, 2)\n",
    "            target = target.permute(0, 3, 1, 2)\n",
    "            output = model(data)\n",
    "            loss = criterion(output, target)\n",
    "\n",
    "            val_loss_meter.update(loss.item(), data.size(0))\n",
    "            val_dice_coef_meter.update(dice_coef_func(output, target).item(), data.size(0))\n",
    "\n",
    "    val_losses.append(val_loss_meter.avg)\n",
    "    val_dice_coefs.append(val_dice_coef_meter.avg)\n",
    "\n",
    "    scheduler.step(val_loss_meter.avg)\n",
    "    print(f'Epoch {epoch}: Train Loss: {train_loss_meter.avg:.4f}, Val Loss: {val_loss_meter.avg:.4f}, Train Dice: {dice_coef_meter.avg:.4f}, Val Dice: {val_dice_coef_meter.avg:.4f}')\n",
    "\n",
    "    # Save model checkpoint\n",
    "    torch.save(model.state_dict(), f'UNET_model_epoch_{epoch}.pth')\n"
   ]
  }
 ],
 "metadata": {
  "kernelspec": {
   "display_name": "Python 3 (ipykernel)",
   "language": "python",
   "name": "python3"
  },
  "language_info": {
   "codemirror_mode": {
    "name": "ipython",
    "version": 3
   },
   "file_extension": ".py",
   "mimetype": "text/x-python",
   "name": "python",
   "nbconvert_exporter": "python",
   "pygments_lexer": "ipython3",
   "version": "3.10.13"
  }
 },
 "nbformat": 4,
 "nbformat_minor": 5
}
